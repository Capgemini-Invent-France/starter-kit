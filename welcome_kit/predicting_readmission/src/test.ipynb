{
 "cells": [
  {
   "cell_type": "code",
   "execution_count": null,
   "metadata": {},
   "outputs": [],
   "source": [
    "import os\n",
    "import sys\n",
    "\n",
    "# path = os.path.join(os.getcwd(), \"welcome\\predicting-readmission\\src\")\n",
    "# print(path)\n",
    "\n",
    "sys.path.insert(0, \"Loading/\")\n",
    "sys.path.insert(0, \"Preprocessing/\")\n",
    "sys.path.insert(0, \"Modeling/\")\n",
    "sys.path.insert(0, \"Evaluation/\")\n",
    "sys.path.insert(0, \"Interpretability/\")\n",
    "sys.path.insert(0, \"Utils/\")\n",
    "\n",
    "from Loading import loading\n",
    "from Preprocessing import preprocessing\n",
    "from Modeling import modeling\n",
    "from Evaluation import evaluation\n",
    "from Interpretability import interpretability\n",
    "from Utils import utils as u"
   ]
  }
 ],
 "metadata": {
  "language_info": {
   "name": "python"
  },
  "orig_nbformat": 4
 },
 "nbformat": 4,
 "nbformat_minor": 2
}
