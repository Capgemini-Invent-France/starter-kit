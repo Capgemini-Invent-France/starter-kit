{
 "cells": [
  {
   "cell_type": "code",
   "execution_count": null,
   "metadata": {
    "ExecuteTime": {
     "end_time": "2021-10-14T09:30:42.920017Z",
     "start_time": "2021-10-14T09:30:38.671873Z"
    }
   },
   "outputs": [],
   "source": [
    "#Import package from the script\n",
    "import sys\n",
    "sys.path.insert(0,\"../src/Loading/\")\n",
    "sys.path.insert(0,\"../src/Preprocessing/\")\n",
    "sys.path.insert(0,\"../src/Modeling/\")\n",
    "sys.path.insert(0,\"../src/Evaluation/\")\n",
    "sys.path.insert(0,\"../src/Interpretability/\")\n",
    "sys.path.insert(0,\"../src/Monitoring/\")\n",
    "sys.path.insert(0,\"../src/Utils/\")\n",
    "\n",
    "\n",
    "import loading\n",
    "import preprocessing\n",
    "import interpretability\n",
    "import utils as u\n",
    "import modeling\n",
    "import evaluation\n",
    "\n",
    "import json \n",
    "import pandas_profiling\n",
    "import pandas as pd\n",
    "import numpy as np"
   ]
  },
  {
   "cell_type": "code",
   "execution_count": null,
   "metadata": {
    "ExecuteTime": {
     "end_time": "2021-10-14T09:30:42.996838Z",
     "start_time": "2021-10-14T09:30:42.970907Z"
    }
   },
   "outputs": [],
   "source": [
    "#Load of the conf file \n",
    "path_conf =\"../params/conf/conf.json\"\n",
    "conf = json.load(open(path_conf, 'r'))\n",
    "\n",
    "# Launch the logger only once \n",
    "path_log = conf['path_log'] # \"../log/my_log_file.txt\"\n",
    "log_level = conf['log_level'] # \"DEBUG\"\n",
    "logger = u.my_get_logger(path_log, log_level, my_name=\"main_logger\")"
   ]
  },
  {
   "cell_type": "markdown",
   "metadata": {},
   "source": [
    "## Loading and EDA"
   ]
  },
  {
   "cell_type": "code",
   "execution_count": null,
   "metadata": {
    "ExecuteTime": {
     "end_time": "2021-10-14T09:30:43.123488Z",
     "start_time": "2021-10-14T09:30:43.010798Z"
    }
   },
   "outputs": [],
   "source": [
    "#Reading of the dataset selected in the conf file\n",
    "df = loading.read_csv_from_name(conf)\n",
    "df.head()"
   ]
  },
  {
   "cell_type": "code",
   "execution_count": null,
   "metadata": {},
   "outputs": [],
   "source": [
    "#Doing the EDA thanks to Pandas Profilling \n",
    "df.profile_report()"
   ]
  },
  {
   "cell_type": "markdown",
   "metadata": {},
   "source": [
    "## Preprocessing"
   ]
  },
  {
   "cell_type": "code",
   "execution_count": null,
   "metadata": {
    "ExecuteTime": {
     "end_time": "2021-10-14T09:30:44.393417Z",
     "start_time": "2021-10-14T09:30:43.131465Z"
    },
    "scrolled": true
   },
   "outputs": [],
   "source": [
    "#Preprocessing of the selected dataset\n",
    "df_preprocessed, X_columns, y_column, encoding_dict = preprocessing.main_preprocessing_from_name(df, conf)\n",
    "\n",
    "#Writting of the preprocessed dataset\n",
    "loading.write_preprocessed_csv_from_name(df_preprocessed, conf, 'data_preprocessed.csv')\n",
    "\n",
    "#Writting the encoding dictionnary \n",
    "loading.write_dict_json_from_name(encoding_dict, conf, 'encoding_dict.json')\n",
    "\n",
    "#Visualize the preprocessed dataset\n",
    "df_preprocessed.head()"
   ]
  },
  {
   "cell_type": "markdown",
   "metadata": {
    "ExecuteTime": {
     "end_time": "2021-10-13T11:50:42.700767Z",
     "start_time": "2021-10-13T11:50:42.373556Z"
    }
   },
   "source": [
    "#### Spliting the data"
   ]
  },
  {
   "cell_type": "code",
   "execution_count": null,
   "metadata": {
    "ExecuteTime": {
     "end_time": "2021-10-14T09:30:44.471081Z",
     "start_time": "2021-10-14T09:30:44.406383Z"
    }
   },
   "outputs": [],
   "source": [
    "#Basic Splitting between train and test\n",
    "X_train, X_test, y_train, y_test = preprocessing.basic_split(df_preprocessed, 0.25, X_columns, y_column)"
   ]
  },
  {
   "cell_type": "markdown",
   "metadata": {},
   "source": [
    "## Modeling"
   ]
  },
  {
   "cell_type": "code",
   "execution_count": null,
   "metadata": {
    "ExecuteTime": {
     "end_time": "2021-10-14T09:31:00.962654Z",
     "start_time": "2021-10-14T09:30:44.483053Z"
    }
   },
   "outputs": [],
   "source": [
    "#Modelisation using the model selected in the conf file\n",
    "model, best_params = modeling.main_modeling_from_name(X_train, y_train, conf)\n",
    "\n",
    "#Saving the model\n",
    "u.save_model(model, conf)"
   ]
  },
  {
   "cell_type": "markdown",
   "metadata": {},
   "source": [
    "## Evaluation"
   ]
  },
  {
   "cell_type": "code",
   "execution_count": null,
   "metadata": {
    "ExecuteTime": {
     "end_time": "2021-10-14T09:24:53.588266Z",
     "start_time": "2021-10-14T09:24:53.439302Z"
    }
   },
   "outputs": [],
   "source": [
    "#Independent step from the other, we reload what we need:\n",
    "#Can be lauched without the previous steps\n",
    "\n",
    "#Loading of the model\n",
    "model = u.load_model(conf)\n",
    "#Loading of the preprocessed dataset\n",
    "df = loading.load_preprocessed_csv_from_name(conf, 'data_preprocessed.csv')\n",
    "#Loading the encodinf dictionnary \n",
    "encoding_dict = loading.load_dict_json_from_name(conf, 'encoding_dict.json')\n",
    "\n",
    "#Basic Splitting:\n",
    "y_column = u.get_y_column_from_conf(conf)\n",
    "X_columns = [x for x in df.columns if x != y_column]\n",
    "X_train, X_test, y_train, y_test = preprocessing.basic_split(df, 0.25, X_columns, y_column)"
   ]
  },
  {
   "cell_type": "code",
   "execution_count": null,
   "metadata": {
    "ExecuteTime": {
     "end_time": "2021-10-14T09:24:54.058645Z",
     "start_time": "2021-10-14T09:24:53.599234Z"
    }
   },
   "outputs": [],
   "source": [
    "#Computing metrics\n",
    "dict_metrics = evaluation.main_evaluation(model, X_test, y_test, conf)\n",
    "dict_metrics"
   ]
  },
  {
   "cell_type": "markdown",
   "metadata": {},
   "source": [
    "## Interpretabily "
   ]
  },
  {
   "cell_type": "code",
   "execution_count": null,
   "metadata": {},
   "outputs": [],
   "source": [
    "#Get The features importance by permutation \n",
    "\n",
    "interpretability.permutation_features_importance(conf, model, X_train, y_train)"
   ]
  },
  {
   "cell_type": "markdown",
   "metadata": {},
   "source": [
    "#### SHAP"
   ]
  },
  {
   "cell_type": "code",
   "execution_count": null,
   "metadata": {
    "ExecuteTime": {
     "end_time": "2021-10-12T15:54:11.594730Z",
     "start_time": "2021-10-12T15:54:11.215912Z"
    }
   },
   "outputs": [],
   "source": [
    "#Initialize the SHAP class\n",
    "shap_analysis = interpretability.shap_analysis(model, X_test, y_test, conf)\n",
    "\n",
    "# Variable Importance graphic\n",
    "shap_analysis.features_importance()"
   ]
  },
  {
   "cell_type": "code",
   "execution_count": null,
   "metadata": {},
   "outputs": [],
   "source": [
    "# summary plot\n",
    "# Features importance + effect of the features according to their value\n",
    "shap_analysis.summary_plot()"
   ]
  },
  {
   "cell_type": "code",
   "execution_count": null,
   "metadata": {},
   "outputs": [],
   "source": [
    "#global interpretation \n",
    "shap_analysis.global_force_plot(n=1000)"
   ]
  },
  {
   "cell_type": "code",
   "execution_count": null,
   "metadata": {},
   "outputs": [],
   "source": [
    "#Local evaluation of the model\n",
    "shap_analysis.local_force_plot(i=0)"
   ]
  },
  {
   "cell_type": "code",
   "execution_count": null,
   "metadata": {},
   "outputs": [],
   "source": [
    "#Watch the effect of each category for the job\n",
    "shap_var_importance = shap_analysis.cat_features_explanability('diabetesMed', encoding_dict)"
   ]
  },
  {
   "cell_type": "markdown",
   "metadata": {},
   "source": [
    "#### DICE"
   ]
  },
  {
   "cell_type": "code",
   "execution_count": null,
   "metadata": {},
   "outputs": [],
   "source": [
    "# Initialize the DICE class\n",
    "dice_interpretability = interpretability.dice_interpretability(model, X_test, y_test, conf)\n",
    "\n",
    "#Generate counterfactuals for a given input point\n",
    "dice_interpretability.local_interpretability()"
   ]
  },
  {
   "cell_type": "code",
   "execution_count": null,
   "metadata": {},
   "outputs": [],
   "source": [
    "#Calculate the counterfactuals necessity for all features\n",
    "dice_interpretability.global_interpretability(n=1000)"
   ]
  }
 ],
 "metadata": {
  "kernelspec": {
   "display_name": "Python 3.7.9 64-bit",
   "language": "python",
   "name": "python3"
  },
  "language_info": {
   "codemirror_mode": {
    "name": "ipython",
    "version": 3
   },
   "file_extension": ".py",
   "mimetype": "text/x-python",
   "name": "python",
   "nbconvert_exporter": "python",
   "pygments_lexer": "ipython3",
   "version": "3.7.9"
  },
  "vscode": {
   "interpreter": {
    "hash": "41fd29f01ff15c25f4f142a7e823f862377bb11b8703665b4af40e3e504c0062"
   }
  }
 },
 "nbformat": 4,
 "nbformat_minor": 4
}
